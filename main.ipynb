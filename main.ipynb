{
 "cells": [
  {
   "cell_type": "markdown",
   "metadata": {},
   "source": [
    "#### Imports"
   ]
  },
  {
   "cell_type": "code",
   "execution_count": 1,
   "metadata": {},
   "outputs": [],
   "source": [
    "import os\n",
    "import csv\n",
    "import pm4py\n",
    "import pandas as pd\n",
    "import seaborn as sns\n",
    "import matplotlib.pyplot as plt\n",
    "\n",
    "from pm4py.util import constants\n",
    "from pm4py.statistics.sojourn_time.log import get as soj_time_get\n",
    "from pm4py.statistics.concurrent_activities.log import get as conc_act_get\n",
    "from pm4py.statistics.traces.generic.log import case_statistics\n",
    "from pm4py.visualization.graphs import visualizer as graphs_visualizer\n",
    "from pm4py.algo.filtering.log.attributes import attributes_filter\n",
    "from pm4py.visualization.petri_net import visualizer as pn_visualizer\n",
    "from pm4py.algo.discovery.heuristics import algorithm as heuristics_miner\n",
    "from pm4py.visualization.heuristics_net import visualizer as hn_visualizer\n",
    "from pm4py.algo.evaluation.generalization import algorithm as generalization_evaluator\n",
    "from pm4py.algo.evaluation.simplicity import algorithm as simplicity_evaluator\n",
    "from pm4py.algo.discovery.footprints import algorithm as footprints_discovery\n",
    "from pm4py.visualization.footprints import visualizer as fp_visualizer\n",
    "from pm4py.algo.discovery.dfg import algorithm as dfg_discovery\n",
    "from pm4py.visualization.dfg import visualizer as dfg_visualization\n",
    "log = None #defined here just for hide lint warnings\n"
   ]
  },
  {
   "cell_type": "markdown",
   "metadata": {},
   "source": [
    "# Process mining"
   ]
  },
  {
   "cell_type": "markdown",
   "metadata": {},
   "source": [
    "## Read log"
   ]
  },
  {
   "cell_type": "code",
   "execution_count": 2,
   "metadata": {},
   "outputs": [],
   "source": [
    "%%capture\n",
    "log = pm4py.read_xes(\"data.xes\")\n",
    "log"
   ]
  },
  {
   "cell_type": "markdown",
   "metadata": {},
   "source": [
    "### Resource\n",
    "Xes formátumban `org:resource` oszlop azonosítja.\\\n",
    "Azonosítja ki végezte az adott eventet (pl.: operator1)."
   ]
  },
  {
   "cell_type": "code",
   "execution_count": 4,
   "metadata": {},
   "outputs": [
    {
     "data": {
      "text/plain": [
       "['operators2', 'operators4', 'operators3', 'operators1', 'operators5']"
      ]
     },
     "execution_count": 4,
     "metadata": {},
     "output_type": "execute_result"
    }
   ],
   "source": [
    "resources = list(pm4py.get_event_attribute_values(log,'org:resource').keys()) \n",
    "resources"
   ]
  },
  {
   "cell_type": "markdown",
   "metadata": {},
   "source": [
    "### Activities\n",
    "Xes formátumban `concept:name` oszlop azonosítja.\\\n",
    "Az activity egy egy bizonyos típusú akciót azonosít (pl.: email küldése).\\\n",
    "Egy aktivitás előfordulását pedig eventnek nevezünk."
   ]
  },
  {
   "cell_type": "code",
   "execution_count": 5,
   "metadata": {},
   "outputs": [
    {
     "data": {
      "text/plain": [
       "['P11', 'P1', 'P8', 'P9', 'P4', 'P10', 'P2', 'P3', 'P5', 'P7', 'P6']"
      ]
     },
     "execution_count": 5,
     "metadata": {},
     "output_type": "execute_result"
    }
   ],
   "source": [
    "activities = list(pm4py.get_event_attribute_values(log, 'concept:name').keys())\n",
    "activities"
   ]
  },
  {
   "cell_type": "code",
   "execution_count": null,
   "metadata": {},
   "outputs": [],
   "source": [
    "start_activities = list(pm4py.get_start_activities(log).keys())\n",
    "start_activities"
   ]
  },
  {
   "cell_type": "code",
   "execution_count": null,
   "metadata": {},
   "outputs": [],
   "source": [
    "end_activities = list(pm4py.get_end_activities(log).keys())\n",
    "end_activities"
   ]
  },
  {
   "cell_type": "markdown",
   "metadata": {},
   "source": [
    "### Case/Trace/Sequence\n",
    "Xes formátumban `case:concept:name` oszlop azonosítja.\\\n",
    "Több eventből áll."
   ]
  },
  {
   "cell_type": "code",
   "execution_count": null,
   "metadata": {},
   "outputs": [],
   "source": [
    "%%capture\n",
    "traces = sorted(list(set(log['case:concept:name'].astype(int))))\n",
    "traces"
   ]
  },
  {
   "cell_type": "markdown",
   "metadata": {},
   "source": [
    "## Filtering"
   ]
  },
  {
   "cell_type": "markdown",
   "metadata": {},
   "source": [
    "### Time\n",
    "Log szűrése idő alapján."
   ]
  },
  {
   "cell_type": "code",
   "execution_count": null,
   "metadata": {},
   "outputs": [],
   "source": [
    "start_date = '2000-01-10 06:00:00'\n",
    "end_date = '2000-01-10 14:00:00'"
   ]
  },
  {
   "cell_type": "markdown",
   "metadata": {},
   "source": [
    "#### Traces contained\n",
    "A kezdő és vég időpontnak is bele kell esnie a megadott intervallumba."
   ]
  },
  {
   "cell_type": "code",
   "execution_count": null,
   "metadata": {},
   "outputs": [],
   "source": [
    "%%capture\n",
    "filtered_log = pm4py.filter_time_range(log,start_date,end_date,mode='traces_contained', case_id_key='case:concept:name', timestamp_key='time:timestamp')\n",
    "traces_in = sorted(list(set(filtered_log['case:concept:name'].astype(int))))\n",
    "traces_in"
   ]
  },
  {
   "cell_type": "markdown",
   "metadata": {},
   "source": [
    "#### Traces intersecting\n",
    "Akár a kezdő akár a vég időpont beleesik a megadott intervallumba megtartja."
   ]
  },
  {
   "cell_type": "code",
   "execution_count": null,
   "metadata": {},
   "outputs": [],
   "source": [
    "%%capture\n",
    "filtered_log = pm4py.filter_time_range(log,start_date,end_date,mode='traces_intersecting', case_id_key='case:concept:name', timestamp_key='time:timestamp')\n",
    "traces_in = sorted(list(set(filtered_log['case:concept:name'].astype(int))))\n",
    "traces_in"
   ]
  },
  {
   "cell_type": "markdown",
   "metadata": {},
   "source": [
    "### Activities and events"
   ]
  },
  {
   "cell_type": "markdown",
   "metadata": {},
   "source": [
    "#### Filter start activities\n",
    "Megtartja azon traceket amelyek a megadott activity-vel kezdődtek (lista, akár több is lehet)."
   ]
  },
  {
   "cell_type": "code",
   "execution_count": null,
   "metadata": {},
   "outputs": [],
   "source": [
    "%%capture\n",
    "start_activity = [start_activities[0]]\n",
    "filtered_log_start = pm4py.filter_start_activities(log, start_activity)\n",
    "filtered_log_start"
   ]
  },
  {
   "cell_type": "markdown",
   "metadata": {},
   "source": [
    "#### Filter end activities\n",
    "Megtartja azon traceket amelyek a megadott activity-vel végződtek (lista, akár több is lehet)."
   ]
  },
  {
   "cell_type": "code",
   "execution_count": null,
   "metadata": {},
   "outputs": [],
   "source": [
    "%%capture\n",
    "end_activity = [end_activities[0]]\n",
    "filtered_log_end = pm4py.filter_end_activities(log, end_activity)\n",
    "filtered_log_end"
   ]
  },
  {
   "cell_type": "markdown",
   "metadata": {},
   "source": [
    "#### Filter event attribute values\n",
    "`retain` --->  meghatározza, hogy azt tartsa meg amire igaz a feltétel, vagy azt amire nem\\\n",
    "`level` --->  case vagy event\\\n",
    "Ha case szintű, akkor az egész case-t megtartja vagy eldobja amibe benne van a megadott resource.\\\n",
    "Ha event szintű, akkor az adott eventet megtartja vagy eldobja amibe a megadott resource."
   ]
  },
  {
   "cell_type": "code",
   "execution_count": null,
   "metadata": {},
   "outputs": [],
   "source": [
    "filter_resource = [resources[-1]]"
   ]
  },
  {
   "cell_type": "code",
   "execution_count": null,
   "metadata": {},
   "outputs": [],
   "source": [
    "%%capture\n",
    "filter_log_resource_case_in = pm4py.filter_event_attribute_values(log, 'org:resource', filter_resource, level='case', retain=True)\n",
    "filter_log_resource_case_in"
   ]
  },
  {
   "cell_type": "code",
   "execution_count": null,
   "metadata": {},
   "outputs": [],
   "source": [
    "%%capture\n",
    "filter_log_resource_event_in = pm4py.filter_event_attribute_values(log, 'org:resource', filter_resource, level='event', retain=True)\n",
    "filter_log_resource_event_in"
   ]
  },
  {
   "cell_type": "code",
   "execution_count": null,
   "metadata": {},
   "outputs": [],
   "source": [
    "%%capture\n",
    "filter_log_resource_case_out = pm4py.filter_event_attribute_values(log, 'org:resource', filter_resource,level='case', retain=False)\n",
    "filter_log_resource_case_out"
   ]
  },
  {
   "cell_type": "code",
   "execution_count": null,
   "metadata": {},
   "outputs": [],
   "source": [
    "%%capture\n",
    "filter_log_resource_event_out = pm4py.filter_event_attribute_values(log, 'org:resource', filter_resource,level='event', retain=False)\n",
    "filter_log_resource_event_out"
   ]
  },
  {
   "cell_type": "markdown",
   "metadata": {},
   "source": [
    "## Statistics"
   ]
  },
  {
   "cell_type": "markdown",
   "metadata": {},
   "source": [
    "### Footprint\n",
    "Tratalmazza:\n",
    "- Directly follows\n",
    "- Sequence\n",
    "- Parallel\n",
    "- Start activities\n",
    "- End activities\n",
    "- Activities\n",
    "- Minimum trace length"
   ]
  },
  {
   "cell_type": "code",
   "execution_count": null,
   "metadata": {},
   "outputs": [],
   "source": [
    "fp_log = footprints_discovery.apply(log, variant=footprints_discovery.Variants.ENTIRE_EVENT_LOG)\n",
    "fp_log"
   ]
  },
  {
   "cell_type": "markdown",
   "metadata": {},
   "source": [
    "### Sojourn time\n",
    "Kummulatív számolás arra vonatkozóan, hogy mennyi időt töltött a folyamat egyes activity-ben."
   ]
  },
  {
   "cell_type": "code",
   "execution_count": null,
   "metadata": {},
   "outputs": [],
   "source": [
    "parameters = {\n",
    "    soj_time_get.Parameters.TIMESTAMP_KEY:'time:timestamp',\n",
    "    soj_time_get.Parameters.START_TIMESTAMP_KEY:'start:timestamp'\n",
    "}\n",
    "soj_time = soj_time_get.apply(log, parameters=parameters)\n",
    "soj_time"
   ]
  },
  {
   "cell_type": "markdown",
   "metadata": {},
   "source": [
    "### Concurrent activities\n",
    "Egymással párhuzamosan futó activity-k ábrázolása."
   ]
  },
  {
   "cell_type": "code",
   "execution_count": null,
   "metadata": {},
   "outputs": [],
   "source": [
    "parameters = {\n",
    "    conc_act_get.Parameters.TIMESTAMP_KEY:'time:timestamp',\n",
    "    conc_act_get.Parameters.START_TIMESTAMP_KEY:'start:timestamp'\n",
    "}\n",
    "\n",
    "concurrent_activities = conc_act_get.apply(log, parameters=parameters)\n",
    "activities_uniques = list(set([x for tup in concurrent_activities.keys() for x in tup]))\n",
    "\n",
    "activities_uniques = sorted(activities, key=lambda x: int(x.split('P')[1])) #optional sort\n",
    "\n",
    "ccact_matrix = pd.DataFrame(columns=activities_uniques, index=activities_uniques)\n",
    "\n",
    "for (i, j), value in concurrent_activities.items():\n",
    "    ccact_matrix.at[i, j] = value\n",
    "\n",
    "ccact_matrix = ccact_matrix.fillna(int(0))"
   ]
  },
  {
   "cell_type": "code",
   "execution_count": null,
   "metadata": {},
   "outputs": [],
   "source": [
    "plt.clf()\n",
    "sns.heatmap(ccact_matrix, cmap='Reds', robust=True)\n",
    "plt.savefig('./statistics/concurrent_activities_matrix.png', format='png', dpi=300, bbox_inches='tight')"
   ]
  },
  {
   "cell_type": "markdown",
   "metadata": {},
   "source": [
    "### Case distribution\n",
    "Case-k időbeli eloszlásának ábrázolása."
   ]
  },
  {
   "cell_type": "code",
   "execution_count": null,
   "metadata": {},
   "outputs": [],
   "source": [
    "parameters = {\n",
    "    constants.PARAMETER_CONSTANT_TIMESTAMP_KEY:'time:timestamp'\n",
    "}\n",
    "x, y = case_statistics.get_kde_caseduration(log,parameters=parameters)\n",
    "gviz = graphs_visualizer.apply_plot(x, y, variant=graphs_visualizer.Variants.CASES)\n",
    "graphs_visualizer.save(gviz, './statistics/case_distribution.png')"
   ]
  },
  {
   "cell_type": "markdown",
   "metadata": {},
   "source": [
    "### Attributes filter\n",
    "Event-k előfordulásának eloszlása idő szerint, gráfon ábrázolva. "
   ]
  },
  {
   "cell_type": "code",
   "execution_count": null,
   "metadata": {},
   "outputs": [],
   "source": [
    "x,y = attributes_filter.get_kde_date_attribute(log, attribute='time:timestamp')\n",
    "gviz = graphs_visualizer.apply_plot(x, y, variant=graphs_visualizer.Variants.DATES)\n",
    "graphs_visualizer.save(gviz, './statistics/attributes_filter.png')"
   ]
  },
  {
   "cell_type": "markdown",
   "metadata": {},
   "source": [
    "### Dotted chart\n",
    "Egy ábra ami jó valamire."
   ]
  },
  {
   "cell_type": "code",
   "execution_count": null,
   "metadata": {},
   "outputs": [],
   "source": [
    "%%capture\n",
    "pm4py.save_vis_dotted_chart(log, './statistics/dotted_chart.png', attributes=['concept:name', 'org:resource'])"
   ]
  },
  {
   "cell_type": "markdown",
   "metadata": {},
   "source": [
    "### Events distribution\n",
    "Event-k eloszlása a beállított idő szerint."
   ]
  },
  {
   "cell_type": "code",
   "execution_count": null,
   "metadata": {},
   "outputs": [],
   "source": [
    "d_type = 'days_month' #options: hours, days_week, days_month, months, years\n",
    "pm4py.save_vis_events_distribution_graph(log, './statistics/event_distribution.jpg', distr_type=d_type) # png valamiért nem jó"
   ]
  },
  {
   "cell_type": "markdown",
   "metadata": {},
   "source": [
    "### Directly follows statistics"
   ]
  },
  {
   "cell_type": "markdown",
   "metadata": {},
   "source": [
    "#### Heatmap"
   ]
  },
  {
   "cell_type": "code",
   "execution_count": null,
   "metadata": {},
   "outputs": [],
   "source": [
    "%%capture\n",
    "df = dict(fp_log['dfg'])\n",
    "\n",
    "activities = list(fp_log['activities'])\n",
    "activities = sorted(activities, key=lambda x: int(x.split('P')[1]))\n",
    "df_mtx = pd.DataFrame(columns=activities,index=activities)\n",
    "\n",
    "for (i, j), value in df.items():\n",
    "    df_mtx.at[i, j] = value\n",
    "\n",
    "df_mtx = df_mtx.fillna(int(0))\n",
    "\n",
    "plt.clf()\n",
    "sns.heatmap(df_mtx, cmap='coolwarm', robust=True, annot=True, fmt='.0f')\n",
    "plt.savefig('./statistics/directly_follows_heatmap.png', format='png', dpi=300, bbox_inches='tight')"
   ]
  },
  {
   "cell_type": "markdown",
   "metadata": {},
   "source": [
    "#### Graph"
   ]
  },
  {
   "cell_type": "code",
   "execution_count": null,
   "metadata": {},
   "outputs": [],
   "source": [
    "%%capture\n",
    "dfg = dfg_discovery.apply(log)\n",
    "gviz = dfg_visualization.apply(dfg, log=log, variant=dfg_visualization.Variants.FREQUENCY)\n",
    "dfg_visualization.save(gviz, './statistics/directly_follows_graph.png')"
   ]
  },
  {
   "cell_type": "markdown",
   "metadata": {},
   "source": [
    "# Sequence mining"
   ]
  },
  {
   "cell_type": "markdown",
   "metadata": {},
   "source": [
    "### Miners\n"
   ]
  },
  {
   "cell_type": "markdown",
   "metadata": {},
   "source": [
    "#### Alpha"
   ]
  },
  {
   "cell_type": "code",
   "execution_count": null,
   "metadata": {},
   "outputs": [],
   "source": [
    "net_a, im, fm = pm4py.discover_petri_net_alpha(log)\n",
    "pm4py.save_vis_petri_net(net_a, im, fm, './miners/alpha/petri_net_alpha.png')"
   ]
  },
  {
   "cell_type": "code",
   "execution_count": null,
   "metadata": {},
   "outputs": [],
   "source": [
    "fp_net = footprints_discovery.apply(net_a, im, fm)\n",
    "gviz = fp_visualizer.apply(fp_net, parameters={fp_visualizer.Variants.SINGLE.value.Parameters.FORMAT:'png'})\n",
    "fp_visualizer.save(gviz, './miners/alpha/alpha_footprint.png')"
   ]
  },
  {
   "cell_type": "markdown",
   "metadata": {},
   "source": [
    "##### Frequency"
   ]
  },
  {
   "cell_type": "code",
   "execution_count": null,
   "metadata": {},
   "outputs": [],
   "source": [
    "%%capture\n",
    "parameters = {\n",
    "    pn_visualizer.Variants.FREQUENCY.value.Parameters.FORMAT:'png'\n",
    "}\n",
    "\n",
    "gviz = pn_visualizer.apply(net_a, im, fm, parameters=parameters, variant=pn_visualizer.Variants.FREQUENCY, log=log)\n",
    "pn_visualizer.save(gviz, './miners/alpha/petri_net_frequency_alpha.png')"
   ]
  },
  {
   "cell_type": "markdown",
   "metadata": {},
   "source": [
    "##### Performance\n",
    "Átmenetek átlagos ideje"
   ]
  },
  {
   "cell_type": "code",
   "execution_count": null,
   "metadata": {},
   "outputs": [],
   "source": [
    "%%capture\n",
    "parameters = {\n",
    "    pn_visualizer.Variants.PERFORMANCE.value.Parameters.FORMAT:'png'\n",
    "\n",
    "}\n",
    "gviz = pn_visualizer.apply(net_a, im, fm, parameters=parameters, variant=pn_visualizer.Variants.PERFORMANCE, log=log)\n",
    "pn_visualizer.save(gviz, './miners/alpha/petri_net_performance_alpha.png')"
   ]
  },
  {
   "cell_type": "markdown",
   "metadata": {},
   "source": [
    "##### Evaluation"
   ]
  },
  {
   "cell_type": "code",
   "execution_count": null,
   "metadata": {},
   "outputs": [],
   "source": [
    "%%capture\n",
    "fitness_alpha = pm4py.fitness_token_based_replay(log, net_a, im, fm)\n",
    "fit_alpha = fitness_alpha['log_fitness']\n",
    "precision_alpha = pm4py.precision_token_based_replay(log, net_a, im, fm)\n",
    "gen_alpha = generalization_evaluator.apply(log, net_a, im, fm)\n",
    "simp_alpha = simplicity_evaluator.apply(net_a)"
   ]
  },
  {
   "cell_type": "markdown",
   "metadata": {},
   "source": [
    "#### Inductive"
   ]
  },
  {
   "cell_type": "code",
   "execution_count": null,
   "metadata": {},
   "outputs": [],
   "source": [
    "net_i, im, fm = pm4py.discover_petri_net_inductive(log)\n",
    "pm4py.save_vis_petri_net(net_i, im, fm, './miners/inductive/petri_net_inductive.png')"
   ]
  },
  {
   "cell_type": "markdown",
   "metadata": {},
   "source": [
    "##### Business Process Model and Notation (BPMN)\n",
    "Workflow ábrázolása diagrammon ami gyakran tartalmaz:\n",
    "- activity\n",
    "- döntési pont\n",
    "- nyilak (folyamat iránya)"
   ]
  },
  {
   "cell_type": "code",
   "execution_count": null,
   "metadata": {},
   "outputs": [],
   "source": [
    "bpmn_graph = pm4py.discover_bpmn_inductive(log, activity_key='concept:name', case_id_key='case:concept:name', timestamp_key='time:timestamp')\n",
    "gviz = pm4py.visualization.bpmn.visualizer.apply(bpmn_graph)\n",
    "pm4py.visualization.bpmn.visualizer.save(gviz,'./miners/inductive/BPMN.png')"
   ]
  },
  {
   "cell_type": "markdown",
   "metadata": {},
   "source": [
    "##### Evaluation"
   ]
  },
  {
   "cell_type": "code",
   "execution_count": null,
   "metadata": {},
   "outputs": [],
   "source": [
    "%%capture\n",
    "fitness_ind = pm4py.fitness_token_based_replay(log, net_i, im, fm)\n",
    "fit_ind = fitness_ind['log_fitness']\n",
    "precision_ind = pm4py.precision_token_based_replay(log, net_i, im, fm)\n",
    "gen_ind = generalization_evaluator.apply(log, net_i, im, fm)\n",
    "simp_ind = simplicity_evaluator.apply(net_i)"
   ]
  },
  {
   "cell_type": "markdown",
   "metadata": {},
   "source": [
    "#### Heuristic"
   ]
  },
  {
   "cell_type": "code",
   "execution_count": null,
   "metadata": {},
   "outputs": [],
   "source": [
    "net_h, im, fm = pm4py.discover_petri_net_heuristics(log, dependency_threshold=0.7)\n",
    "pm4py.save_vis_petri_net(net_h, im, fm, './miners/heuristic/petri_net_heuristic.png')"
   ]
  },
  {
   "cell_type": "code",
   "execution_count": null,
   "metadata": {},
   "outputs": [],
   "source": [
    "dth = 0.99\n",
    "heu_net = pm4py.discover_heuristics_net(log, dependency_threshold=dth)\n",
    "pm4py.save_vis_heuristics_net(heu_net, './miners/heuristic/heunet_dth_' + str(dth) + '.png')"
   ]
  },
  {
   "cell_type": "markdown",
   "metadata": {},
   "source": [
    "##### Minimum activity count\n",
    "Kiveszi azon activity-et amik amelyek a határértéknél kevesebbszer szerepelnek."
   ]
  },
  {
   "cell_type": "code",
   "execution_count": null,
   "metadata": {},
   "outputs": [],
   "source": [
    "mac = 800\n",
    "heu_net_mac = heuristics_miner.apply_heu(log, parameters={heuristics_miner.Variants.CLASSIC.value.Parameters.MIN_ACT_COUNT: mac})\n",
    "gviz = hn_visualizer.apply(heu_net_mac, parameters={'format':'png'})\n",
    "hn_visualizer.save(gviz, './miners/heuristic/heunet_mac_' + str(mac) + '.png')"
   ]
  },
  {
   "cell_type": "markdown",
   "metadata": {},
   "source": [
    "##### Minimum directly follows\n",
    "Két aktivitás között minimum hány kapocsolatnak kell lennie, hogy belekerüljön a gráfba."
   ]
  },
  {
   "cell_type": "code",
   "execution_count": null,
   "metadata": {},
   "outputs": [],
   "source": [
    "mdfg = 200\n",
    "heu_net_mdfg = heuristics_miner.apply_heu(log, parameters={heuristics_miner.Variants.CLASSIC.value.Parameters.MIN_DFG_OCCURRENCES: mdfg})\n",
    "gviz = hn_visualizer.apply(heu_net_mdfg, parameters={'format':'png'})\n",
    "hn_visualizer.save(gviz, './miners/heuristic/heunet_mdfg_' + str(mdfg) + '.png')"
   ]
  },
  {
   "cell_type": "markdown",
   "metadata": {},
   "source": [
    "##### Evaluation"
   ]
  },
  {
   "cell_type": "code",
   "execution_count": null,
   "metadata": {},
   "outputs": [],
   "source": [
    "%%capture\n",
    "fitness_heu = pm4py.fitness_token_based_replay(log, net_h, im, fm)\n",
    "fit_heu = fitness_heu['log_fitness']\n",
    "precision_heu = pm4py.precision_token_based_replay(log, net_h, im, fm)\n",
    "gen_heu = generalization_evaluator.apply(log, net_h, im, fm)\n",
    "simp_heu = simplicity_evaluator.apply(net_h)"
   ]
  },
  {
   "cell_type": "markdown",
   "metadata": {},
   "source": [
    "### Evaluation comparison"
   ]
  },
  {
   "cell_type": "code",
   "execution_count": null,
   "metadata": {},
   "outputs": [],
   "source": [
    "ev_comp = pd.DataFrame(columns=['Alpha','Inductive','Heuristic'], index=['fitness','precision','generalization','simplicity'])\n",
    "\n",
    "ev_comp.at['fitness','Alpha'] = round(fit_alpha, 3) # type: ignore\n",
    "ev_comp.at['fitness','Inductive'] = round(fit_ind, 3) # type: ignore\n",
    "ev_comp.at['fitness','Heuristic'] = round(fit_heu, 3) # type: ignore\n",
    "\n",
    "ev_comp.at['precision','Alpha'] = round(precision_alpha, 3) # type: ignore\n",
    "ev_comp.at['precision','Inductive'] = round(precision_ind, 3) # type: ignore\n",
    "ev_comp.at['precision','Heuristic'] = round(precision_heu, 3) # type: ignore\n",
    "\n",
    "ev_comp.at['generalization','Alpha'] = round(gen_alpha, 3) # type: ignore\n",
    "ev_comp.at['generalization','Inductive'] = round(gen_ind, 3) # type: ignore\n",
    "ev_comp.at['generalization','Heuristic'] = round(gen_heu, 3) # type: ignore\n",
    "\n",
    "ev_comp.at['simplicity','Alpha'] = round(simp_alpha, 3) # type: ignore\n",
    "ev_comp.at['simplicity','Inductive'] = round(simp_ind, 3) # type: ignore\n",
    "ev_comp.at['simplicity','Heuristic'] = round(simp_heu, 3) # type: ignore\n",
    "\n",
    "\n",
    "ev_comp = ev_comp[ev_comp.columns].astype(float)\n",
    "plt.clf()\n",
    "sns.heatmap(ev_comp, cmap='Greens',robust=True,annot=True,fmt='.2f')\n",
    "plt.savefig('./miners/evaluation_comp.png',format='png',dpi=300,bbox_inches='tight')"
   ]
  },
  {
   "cell_type": "markdown",
   "metadata": {},
   "source": [
    "### Frequent itemset and sequential pattern mining"
   ]
  },
  {
   "cell_type": "code",
   "execution_count": null,
   "metadata": {},
   "outputs": [],
   "source": [
    "'''Események átkódolása számokká'''\n",
    "cnames = heu_net.activities\n",
    "codes = []\n",
    "for i in range(0,len(cnames)): codes.append(i+1)\n",
    "\n",
    "name_code_dict = dict(zip(cnames,codes))\n",
    "code_name_dict = dict(zip(codes,cnames))\n",
    "\n",
    "filt_log = log.loc[:,['case:concept:name','concept:name']]\n",
    "filt_log['Code'] = ''\n",
    "for i in range(0,len(filt_log)): filt_log.at[i,'Code'] = name_code_dict[filt_log.at[i,'concept:name']]"
   ]
  },
  {
   "cell_type": "code",
   "execution_count": null,
   "metadata": {},
   "outputs": [],
   "source": [
    "'''Trace-ek kinyerése'''\n",
    "traces = list(log['case:concept:name'].values)\n",
    "traces = list(dict.fromkeys(traces))\n",
    "\n",
    "sequences = []\n",
    "for trace in traces:\n",
    "    fl = filt_log[filt_log['case:concept:name']==str(trace)]\n",
    "    events = list(fl['Code'].values)\n",
    "    sequences.append(events)"
   ]
  },
  {
   "cell_type": "code",
   "execution_count": null,
   "metadata": {},
   "outputs": [],
   "source": [
    "'''Trace lista mentése'''\n",
    "with open('sequences.csv','w',newline='') as f:\n",
    "    writer = csv.writer(f)\n",
    "    writer.writerows(sequences)"
   ]
  },
  {
   "cell_type": "code",
   "execution_count": null,
   "metadata": {},
   "outputs": [],
   "source": [
    "'''SPMF formátummá konvertálás'''\n",
    "filename_in_spmf = 'sequences.csv'\n",
    "filename_out_spmf = 'sequences_spmf.csv'\n",
    "command = 'java -jar spmf.jar run Convert_a_sequence_database_to_SPMF_format ' + filename_in_spmf + ' ' + filename_out_spmf + ' CSV_INTEGER 100000'\n",
    "os.system(command)"
   ]
  },
  {
   "cell_type": "code",
   "execution_count": null,
   "metadata": {},
   "outputs": [],
   "source": [
    "'''Frequent itemset mining'''\n",
    "minsup_fi = 0.02\n",
    "filename_in_fi = 'sequences_spmf.csv'\n",
    "filename_out_fi = 'fis_Apr_' + str(int(minsup_fi*100)) + '.csv'\n",
    "command = 'java -jar spmf.jar run Apriori ' + filename_in_fi + ' ' + filename_out_fi + ' ' + str(minsup_fi)  #The command needs to be a string\n",
    "os.system(command)"
   ]
  },
  {
   "cell_type": "code",
   "execution_count": null,
   "metadata": {},
   "outputs": [],
   "source": [
    "'''Frequent closed itemset mining'''\n",
    "minsup_fci = 0.02\n",
    "filename_in_fci = 'sequences_spmf.csv'\n",
    "filename_out_fci = 'fis_AprC_' + str(int(minsup_fci*100)) + '.csv'\n",
    "command = 'java -jar spmf.jar run AprioriClose ' + filename_in_fci + ' ' + filename_out_fci + ' ' + str(minsup_fci)  #The command needs to be a string\n",
    "os.system(command)"
   ]
  },
  {
   "cell_type": "code",
   "execution_count": null,
   "metadata": {},
   "outputs": [],
   "source": [
    "'''Frequent sequential pattern mining'''\n",
    "minsup_fsp = 0.2\n",
    "filename_in_fsp = 'sequences_spmf.csv'\n",
    "filename_out_fsp = 'fsp_PrefixSpan_' + str(int(minsup_fsp*100)) + '.csv'\n",
    "command = 'java -jar spmf.jar run PrefixSpan ' + filename_in_fsp + ' ' + filename_out_fsp + ' ' + str(minsup_fsp)  #The command needs to be a string\n",
    "os.system(command)\n"
   ]
  },
  {
   "cell_type": "code",
   "execution_count": null,
   "metadata": {},
   "outputs": [],
   "source": [
    "minsup_fsp = 0.2\n",
    "min_pat_l = 2\n",
    "max_pat_l = 4\n",
    "gap = 2\n",
    "filename_in_fsp = 'sequences_spmf.csv'\n",
    "filename_out_fsp = 'fsp_CMSPAN_' + str(int(minsup_fsp*100)) + '_minp_' + str(min_pat_l) + '_maxp_'+str(max_pat_l) + '_gap_' + str(gap) + '.csv'\n",
    "command = 'java -jar spmf.jar run CM-SPAM ' + filename_in_fsp + ' ' + filename_out_fsp + ' ' + str(minsup_fsp) + ' ' + str(min_pat_l) + ' ' + str(max_pat_l) + ' \"\" ' + str(gap) + ' true'  #The command needs to be a string\n",
    "os.system(command)"
   ]
  }
 ],
 "metadata": {
  "kernelspec": {
   "display_name": ".venv",
   "language": "python",
   "name": "python3"
  },
  "language_info": {
   "codemirror_mode": {
    "name": "ipython",
    "version": 3
   },
   "file_extension": ".py",
   "mimetype": "text/x-python",
   "name": "python",
   "nbconvert_exporter": "python",
   "pygments_lexer": "ipython3",
   "version": "3.12.4"
  }
 },
 "nbformat": 4,
 "nbformat_minor": 2
}
